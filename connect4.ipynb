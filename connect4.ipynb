{
 "cells": [
  {
   "cell_type": "markdown",
   "metadata": {},
   "source": [
    "# Relatório - Minimax (Connect-4)"
   ]
  },
  {
   "cell_type": "markdown",
   "metadata": {},
   "source": [
    "Alunos:  \n",
    "- Caio Cargnin Cardoso  \n",
    "- Diego Marzarotto\n",
    "\n",
    "---"
   ]
  },
  {
   "cell_type": "markdown",
   "metadata": {},
   "source": [
    "## Implementação"
   ]
  },
  {
   "cell_type": "code",
   "execution_count": 1,
   "metadata": {
    "collapsed": false
   },
   "outputs": [],
   "source": [
    "import numpy as np\n",
    "from connect4 import Jogo, Tabuleiro, Minimax, Avaliacao"
   ]
  },
  {
   "cell_type": "markdown",
   "metadata": {},
   "source": [
    "O programa consiste em um script python, que utiliza 4 classes para implementar o algoritmo minimax, com o objetivo de criar um jogador artificial de Lig-4 (Connect-4).\n",
    "\n",
    "Além das bibliotecas nativas do python, o script usa também o *numpy*, portanto, antes de rodar o script é necessário instalar a biblioteca. Caso esteja usado o *pip* para gerenciar as dependências, basta rodar:\n",
    "\n",
    "`sudo pip install -r requirements.txt`\n",
    "\n",
    "Caso contrário, instale o pip antes. No Ubuntu basta executar:\n",
    "\n",
    "`sudo apt-get install python-pip`\n",
    "\n",
    "Para instruções em outros sistemas operacionais, consulte o google. :)  \n",
    "Para utilizar o script, ele deve ser executado em um terminal. \n",
    "\n",
    "`./connect4.py`\n",
    "\n",
    "Ao ser executado, o script apresenta a seguinte saída para o usuário, que deve então entrar com uma jogada válida. Em seguida as jogadas são alternadas entre o jogador humano e o adversário."
   ]
  },
  {
   "cell_type": "code",
   "execution_count": 2,
   "metadata": {
    "collapsed": false
   },
   "outputs": [
    {
     "name": "stdout",
     "output_type": "stream",
     "text": [
      "\n",
      "### Connect-4 ###\n",
      "\n",
      "1| _ _ _ _ _ _ _ |\n",
      "2| _ _ _ _ _ _ _ |\n",
      "3| _ _ _ _ _ _ _ |\n",
      "4| _ _ _ _ _ _ _ |\n",
      "5| _ _ _ _ _ _ _ |\n",
      "6| _ _ _ _ _ _ _ |\n",
      "   1 2 3 4 5 6 7\n",
      "\n",
      "Em qual coluna você deseja realizar sua jogada? 4\n",
      "\n",
      "1| _ _ _ _ _ _ _ |\n",
      "2| _ _ _ _ _ _ _ |\n",
      "3| _ _ _ _ _ _ _ |\n",
      "4| _ _ _ _ _ _ _ |\n",
      "5| _ _ _ x _ _ _ |\n",
      "6| _ _ _ o _ _ _ |\n",
      "   1 2 3 4 5 6 7\n"
     ]
    }
   ],
   "source": [
    "Jogo(demo=True).iniciar() # internamente o script executa isso, com demo=False"
   ]
  },
  {
   "cell_type": "markdown",
   "metadata": {},
   "source": [
    "---"
   ]
  },
  {
   "cell_type": "markdown",
   "metadata": {},
   "source": [
    "O número de níveis que o algoritmo percorrerá para realizar a busca pode ser passado como parâmetro:\n",
    "\n",
    "`./connect4.py -n 1`  \n",
    "`./connect4.py -n 2`  \n",
    "`./connect4.py -n 3`  \n",
    "\n",
    "---"
   ]
  },
  {
   "cell_type": "markdown",
   "metadata": {},
   "source": [
    "A seguir, uma breve descrição das classes existentes:  "
   ]
  },
  {
   "cell_type": "markdown",
   "metadata": {},
   "source": [
    "### Classe Jogo\n",
    "\n",
    "---"
   ]
  },
  {
   "cell_type": "markdown",
   "metadata": {},
   "source": [
    "Responsável por realizar a interação com o usuário e controlar o fluxo da partida.\n",
    "\n",
    "Interage com a classe Tabuleiro para armazenar o estado do jogo, com a classe Avaliacao para interpretar o valor de cada estado do tabuleiro, e com a classe Minimax para realizar a busca das melhores jogadas.\n",
    "\n",
    "---"
   ]
  },
  {
   "cell_type": "markdown",
   "metadata": {},
   "source": [
    "### Classe Minimax\n",
    "\n",
    "---"
   ]
  },
  {
   "cell_type": "markdown",
   "metadata": {},
   "source": [
    "Responsável por realizar a busca jogadas do jogador artificial.\n",
    "\n",
    "O algoritmo utilizado é o Minimax com poda alfa-beta, que utiliza recursão para percorrer uma árvore de busca à procura da melhor jogada.\n",
    "\n",
    "Durante a busca, a classe Minimax divide o valor final da avaliação pelo número de jogadas já realizadas. Divide-se o valor ponderado das ameaças pelo número de níveis percorridos até o atual estado na árvore de busca, com $+ 1$ para evitar a divisão por zero no nível raíz da árvore.  \n",
    "\n",
    "$n$ - número de níveis percorridos na árvore de busca  \n",
    "  \n",
    "$f(A_f, A_c) = \\frac{A_f - A_c}{n+1}$  \n",
    "\n",
    "---"
   ]
  },
  {
   "cell_type": "markdown",
   "metadata": {},
   "source": [
    "### Classe Avaliacao\n",
    "\n",
    "---"
   ]
  },
  {
   "cell_type": "markdown",
   "metadata": {},
   "source": [
    "Responsável por implementar a função que calcula a utilidade e a heurística  dos diferentes estados do jogo.\n",
    "\n",
    "A função de avaliação realiza uma contagem das ameaças existentes para ambos os jogadores, calcula a diferença e utiliza pesos diferentes dependendo dos tipos de ameaças.  \n",
    "\n",
    "$A$ - ameaças   \n",
    "$A_1, A_2, A_3, A_4$ - ameaças com 1, 2, 3 e 4 peças, respectivamente  \n",
    "  \n",
    "$A_f$ - valor calculado das ameaças a favor   \n",
    "$A_c$ - valor calculado das ameaças contra  \n",
    "  \n",
    "Ameaças são conjuntos de 4 posições adjacentes do tabuleiro (horizontal, vertical, ou diagonalmente), em que existam somente peças de um dos jogadores. Ameaças diretas são aquelas que podem ser realizadas sem que seja necessário realizar outras jogadas adicionais para preencher os espaços vazios abaixo da peça que está faltando na \n",
    "ameaça. Ameaças indiretas não podem ser realizadas sem que antes todas as posições abaixo da peça faltando na ameaça sejam ocupadas. \n",
    " \n",
    "A implementação apresentada não diferencia as ameaças diretas das ameaças indiretas, sendo essa a sua principal limitação.  \n",
    "  \n",
    "Os pesos utilizados para cada ameaças são os sequintes:  \n",
    "  \n",
    "- (Ameaça com 1) $W_1  = 1$\n",
    "- (Ameaça com 2) $W_2  = 50$\n",
    "- (Ameaça com 3) $W_3  = 5000$\n",
    "- (Ameaça com 4) $W_4  = 500000$\n",
    "  \n",
    "$A_f = \\sum_{i=1}^4 W_i A_{f,i}$\n",
    "  \n",
    "$A_c = \\sum_{i=1}^4 W_i A_{c,i}$\n",
    "  \n",
    "$f(A_f, A_c) = A_f - A_c$ \n",
    "  \n",
    "Para fazer a contagem, foi utilizado um filtro (matriz) de 4x4 que percorre todo  \n",
    "o tabuleiro e conta as ameaças verticais, horizontais e diagonais.\n",
    "  \n",
    "Além disso, a função é também responsável por identificar se o jogo está terminado \n",
    "e qual jogador saiu vitorioso.\n",
    "\n",
    "---"
   ]
  },
  {
   "cell_type": "markdown",
   "metadata": {},
   "source": [
    "### Classe Tabuleiro\n",
    "\n",
    "---"
   ]
  },
  {
   "cell_type": "markdown",
   "metadata": {},
   "source": [
    "Responsável por armazenar o estado do tabuleiro e validar as jogodas possíveis de serem realizadas.\n",
    "\n",
    "---"
   ]
  },
  {
   "cell_type": "markdown",
   "metadata": {},
   "source": [
    "## Limitações"
   ]
  },
  {
   "cell_type": "markdown",
   "metadata": {},
   "source": [
    "O maior número de níveis que foi possível percorrer nos exemplos avaliados, foi um máximo de 6 níveis. A complexidade envolvida em percorrer o tabuleiro com o filtro inviabiliza o algoritmo de ser utilizado eficientemente em problemas de tempo real.  \n",
    "  \n",
    "Outro problema encontrado com a implementação tem relação com o fato do número de níveis a serem percorridos ser par ou ímpar. Quando este número é ímpar, a última jogada avaliada é a jogada do jogador humano, fazendo com que uma ameaça com 3 para o jogador humano, que pode ser concluída já na sua próxima jogada não seja devidamente identificada como uma condição de vitória iminente.  \n",
    "  \n",
    "Para \"resolver\" esse caso, identificamos as ameaças no último nível, caso este seja ímpar, como uma ameaça maior. Por exemplo, uma ameaça com 3 passa a ser identificada como uma ameaça com 4, e assim para todas as outros tipos de ameaças, exceto ameaças com 4, que continuam com a mesma avaliação.\n",
    "\n",
    "---"
   ]
  }
 ],
 "metadata": {
  "kernelspec": {
   "display_name": "Python 2",
   "language": "python",
   "name": "python2"
  },
  "language_info": {
   "codemirror_mode": {
    "name": "ipython",
    "version": 2
   },
   "file_extension": ".py",
   "mimetype": "text/x-python",
   "name": "python",
   "nbconvert_exporter": "python",
   "pygments_lexer": "ipython2",
   "version": "2.7.9"
  }
 },
 "nbformat": 4,
 "nbformat_minor": 0
}
